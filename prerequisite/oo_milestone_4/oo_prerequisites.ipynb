{
 "cells": [
  {
   "cell_type": "markdown",
   "metadata": {},
   "source": [
    "# Object-Oriented Programming\n",
    "*This note is for practicing only*"
   ]
  },
  {
   "cell_type": "markdown",
   "metadata": {},
   "source": [
    "## Notes and code snippet from Notebook"
   ]
  },
  {
   "cell_type": "code",
   "execution_count": 1,
   "metadata": {},
   "outputs": [],
   "source": [
    "def employee(name, position, species, salary):\n",
    "    return {'Name' : name, 'Position': position, 'Species': species, 'Salary': salary}\n",
    "\n",
    "spongebob = employee('SpongeBob SquarePants', 'Fry Cook', 'Sea Sponge', 1500)\n",
    "squidward = employee('Squidward Tentacles', 'Cashier', 'Octopus', 700)\n",
    "krabs = employee('Eugene Krabs', 'Owner', 'Crab', 200000)\n",
    "patrick = employee('Patrick Star', None, 'Starfish', 0)"
   ]
  },
  {
   "cell_type": "code",
   "execution_count": 3,
   "metadata": {},
   "outputs": [
    {
     "name": "stdout",
     "output_type": "stream",
     "text": [
      "{'Name': 'Ali', 'Position': 'King', 'Species': 'unknown', 'Salary': 1000000}\n"
     ]
    }
   ],
   "source": [
    "krabs = employee('Ali', 'King', 'unknown', 1000000)\n",
    "print(krabs)"
   ]
  },
  {
   "cell_type": "markdown",
   "metadata": {},
   "source": [
    "In the above code, we create a function called employee, which returns the name, position, species and salary. Subsequently, we add some actions to each employee."
   ]
  },
  {
   "cell_type": "code",
   "execution_count": 6,
   "metadata": {},
   "outputs": [],
   "source": [
    "def increase_salary(employee, amount):\n",
    "    employee[\"Salary\"] += amount # This is a side effect on the original dictionary object\n",
    "    print(\"type of employee\",type(employee))"
   ]
  },
  {
   "cell_type": "code",
   "execution_count": 8,
   "metadata": {},
   "outputs": [
    {
     "name": "stdout",
     "output_type": "stream",
     "text": [
      "type of employee <class 'dict'>\n",
      "None\n"
     ]
    }
   ],
   "source": [
    "print(increase_salary(krabs, 100))"
   ]
  },
  {
   "cell_type": "markdown",
   "metadata": {},
   "source": [
    "For our employee example, we can define a class following the above syntax:"
   ]
  },
  {
   "cell_type": "code",
   "execution_count": 10,
   "metadata": {},
   "outputs": [],
   "source": [
    "class Employee:\n",
    "    # __init__ is the constructor and sets the initial state of the of the object\n",
    "    def __init__(self, name, position, species, total_hours, salary):\n",
    "        self.name = name # This is an attribute of the object and is set to the value of the name parameter\n",
    "        self.position = position\n",
    "        self.species = species\n",
    "        self.total_hours = total_hours\n",
    "        self.salary = salary\n",
    "    \n",
    "    def increase_salary(self, amount):\n",
    "        ''' '''\n",
    "        self.salary = self.salary + self.amount \n",
    "        self.promotion() \n",
    "\n",
    "    def work(self):\n",
    "        '''Each time we call the work function, the total number of hours increases by one.\n",
    "        If the total number of hours reaches 40, 80, 120..., we will increase the employee salary.'''\n",
    "        self.total_hours += 1\n",
    "        if self.total_hours % 40 == 0:\n",
    "            self.increase_salary(50)\n",
    "    \n",
    "    def promotion(self):\n",
    "        if self.salary > 200000:\n",
    "            self.position = \"Co-owner\""
   ]
  },
  {
   "cell_type": "code",
   "execution_count": 11,
   "metadata": {},
   "outputs": [],
   "source": [
    "spongebob = Employee(name='SpongeBob SquarePants', position='Fry Cook', species='Sea Sponge', total_hours=0, salary=1500)\n",
    "\n",
    "# spongebob is the instance where the Employee object is built. Thus, when instantiating spongebob, self refers to spongebob."
   ]
  },
  {
   "cell_type": "code",
   "execution_count": 13,
   "metadata": {},
   "outputs": [
    {
     "name": "stdout",
     "output_type": "stream",
     "text": [
      "SpongeBob SquarePants Fry Cook Sea Sponge 0 1500\n"
     ]
    }
   ],
   "source": [
    "print(spongebob.name, spongebob.position, spongebob.species, spongebob.total_hours, spongebob.salary)"
   ]
  },
  {
   "cell_type": "markdown",
   "metadata": {},
   "source": [
    "## Inheritance"
   ]
  },
  {
   "cell_type": "code",
   "execution_count": 14,
   "metadata": {},
   "outputs": [],
   "source": [
    "class Rectangle:\n",
    "    def __init__(self, length, width):\n",
    "        self.length = length\n",
    "        self.width = width\n",
    "\n",
    "    def area(self):\n",
    "        return self.length * self.width\n",
    "\n",
    "    def perimeter(self):\n",
    "        return 2*self.length + 2*self.width\n",
    "        "
   ]
  },
  {
   "cell_type": "code",
   "execution_count": 18,
   "metadata": {},
   "outputs": [
    {
     "name": "stdout",
     "output_type": "stream",
     "text": [
      "6\n"
     ]
    }
   ],
   "source": [
    "# create an instance of class Rectangle\n",
    "rect_1 = Rectangle(2, 3)\n",
    "print(rect_1.area())"
   ]
  },
  {
   "cell_type": "code",
   "execution_count": 19,
   "metadata": {},
   "outputs": [],
   "source": [
    "class Square:\n",
    "    def __init__(self, side):\n",
    "        self.side = side\n",
    "\n",
    "    def area(self):\n",
    "        return self.side ** 2\n",
    "\n",
    "    def perimeter(self):\n",
    "        return 4*self.side"
   ]
  },
  {
   "cell_type": "code",
   "execution_count": 20,
   "metadata": {},
   "outputs": [
    {
     "name": "stdout",
     "output_type": "stream",
     "text": [
      "9\n"
     ]
    }
   ],
   "source": [
    "# create an instance of class Square\n",
    "square_1 = Square(3)\n",
    "print(square_1.area())"
   ]
  },
  {
   "cell_type": "markdown",
   "metadata": {},
   "source": [
    "### The `super().__init__()` Call in Python\n",
    "When you initialize a child class in Python, you can call the `super().__init__()` method. This initializes the parent class object into the child class."
   ]
  },
  {
   "cell_type": "code",
   "execution_count": 22,
   "metadata": {},
   "outputs": [
    {
     "name": "stdout",
     "output_type": "stream",
     "text": [
      "Hello, I am a pet!\n"
     ]
    }
   ],
   "source": [
    "class Pet():\n",
    "    def hello(self):\n",
    "        print(\"Hello, I am a pet!\")\n",
    "\n",
    "class Cat(Pet): # Cat inherits from Pet\n",
    "    '''The cat class inherits from the pet class.\n",
    "    The Cat class implements a say method  that calls the hello method of the Pet class. This \n",
    "    is possible by the super method. The super method is used to call the parent class method.'''\n",
    "    def say(self):\n",
    "        super().hello()\n",
    "\n",
    "luna = Cat()\n",
    "luna.say()"
   ]
  },
  {
   "cell_type": "markdown",
   "metadata": {},
   "source": [
    "### One more example using the `Person`-`Student` relationship\n",
    "We know that every student (child) is necessarely a person (parent)"
   ]
  },
  {
   "cell_type": "code",
   "execution_count": 15,
   "metadata": {},
   "outputs": [],
   "source": [
    "class Person:\n",
    "    def __init__(self, name, age): # This is the constructor method and is called when we instantiate the class\n",
    "        '''\n",
    "        self: refers to the instance of the class that is being created (e.g. person_1) \n",
    "        name: is the name of the person\n",
    "        age: is the age of the person\n",
    "        '''\n",
    "        self.name = name # This is an attribute of the object and is set to the value of the name parameter. Aka property of the object/class\n",
    "        self.age = age # This is an attribute of the class and is shared by all instances of the class\n",
    "        \n",
    "    def introduce(self):\n",
    "        print(f\"Hello, my name is {self.name}. I am {self.age} years old.\")\n",
    "\n",
    "\n",
    "class Student(Person):\n",
    "    def __init__(self, name, age, graduation_year):\n",
    "        super().__init__(name, age) # call the parent class constructor and pass the name and age parameters\n",
    "        self.graduation_year = graduation_year # set the graduation year attribute of the student object\n",
    "        \n",
    "\n",
    "    def graduates(self):\n",
    "        print(f\"{self.name} graduates in {self.graduation_year}.\")"
   ]
  },
  {
   "cell_type": "markdown",
   "metadata": {},
   "source": [
    "Now you can use this setup to create Student objects that can use the Person classes introduce() method."
   ]
  },
  {
   "cell_type": "code",
   "execution_count": 4,
   "metadata": {},
   "outputs": [
    {
     "name": "stdout",
     "output_type": "stream",
     "text": [
      "Hello, my name is Alice. I am 20 years old.\n",
      "Alice graduates in 2021.\n"
     ]
    }
   ],
   "source": [
    "alice = Student(\"Alice\", 20, 2021) # create an instance of the Student class\n",
    "alice.introduce() # call the introduce method of the Student class which calls the introduce method of the Person class\n",
    "alice.graduates() # call the graduates method of the Student class"
   ]
  },
  {
   "cell_type": "markdown",
   "metadata": {},
   "source": [
    "### Multiple Inheritance\n",
    "\n",
    "You can also streamline the process of initializing multiple classes with the help of the super() method.\n",
    "\n",
    "In other words, you can use the super() method in multiple subclasses to access the common parent classes properties."
   ]
  },
  {
   "cell_type": "code",
   "execution_count": 16,
   "metadata": {},
   "outputs": [],
   "source": [
    "class Person:\n",
    "    def __init__(self, name, age):\n",
    "        self.name = name\n",
    "        self.age = age\n",
    "    \n",
    "    def introduce(self):\n",
    "        print(f\"Hello, my name is {self.name}. I am {self.age} years old.\")\n",
    "\n",
    "# Subclass 1.\n",
    "class Student(Person):\n",
    "    def __init__(self, name, age, graduation_year):\n",
    "        super().__init__(name, age)\n",
    "        self.graduation_year = graduation_year\n",
    "    \n",
    "    def graduates(self):\n",
    "        print(f\"{self.name} will graduate in {self.graduation_year}\")\n",
    "\n",
    "# Subclass 2.\n",
    "class Employee(Person):\n",
    "    def __init__(self, name, age, start_year):\n",
    "        super().__init__(name, age)\n",
    "        self.start_year = start_year\n",
    "    \n",
    "    def graduates(self):\n",
    "        print(f\"{self.name} started working in {self.start_year}\")"
   ]
  },
  {
   "cell_type": "markdown",
   "metadata": {},
   "source": [
    "### Access Regular Inherited Methods with Super()\n",
    "In a couple of last examples, you saw how to use the super() method to call the initializer of the parent class.\n",
    "\n",
    "It is important to notice you can access any other method too.\n",
    "\n",
    "For example, let’s modify the Person-Student example a bit. Let’s create an info() method for the Student class. This method:\n",
    "\n",
    "Calls the introduce() method from the parent class to introduce itself.\n",
    "Shows the graduation year.\n",
    "To call the introduce() method from the parent class, use the super() method to access it.\n",
    "\n"
   ]
  },
  {
   "cell_type": "code",
   "execution_count": 17,
   "metadata": {},
   "outputs": [
    {
     "name": "stdout",
     "output_type": "stream",
     "text": [
      "Hello, this is Ali, my age is 19\n",
      "My name is , Ali, I will graduate in 2022 \n"
     ]
    }
   ],
   "source": [
    "class Person:\n",
    "    def __init__(self, name, age):\n",
    "        self.name = name\n",
    "        self.age = age\n",
    "\n",
    "    def introduce(self):\n",
    "        print(f\"Hello, this is {self.name}, my age is {self.age}\")\n",
    "\n",
    "\n",
    "# sub class\n",
    "class Student(Person):\n",
    "    def __init__(self, name, age, grad_year):\n",
    "        super().__init__(name, age)\n",
    "        self.grad_year = grad_year\n",
    "\n",
    "    def info(self):\n",
    "        super().introduce()\n",
    "        print(f\"My name is , {self.name}, I will graduate in {self.grad_year} \")\n",
    "\n",
    "\n",
    "# instansiate the Student class\n",
    "student_1 = Student(\"Ali\", 19, 2022)\n",
    "student_1.info()\n"
   ]
  },
  {
   "cell_type": "code",
   "execution_count": null,
   "metadata": {},
   "outputs": [],
   "source": []
  }
 ],
 "metadata": {
  "kernelspec": {
   "display_name": "Python 3.9.5 64-bit",
   "language": "python",
   "name": "python3"
  },
  "language_info": {
   "codemirror_mode": {
    "name": "ipython",
    "version": 3
   },
   "file_extension": ".py",
   "mimetype": "text/x-python",
   "name": "python",
   "nbconvert_exporter": "python",
   "pygments_lexer": "ipython3",
   "version": "3.9.5"
  },
  "orig_nbformat": 4,
  "vscode": {
   "interpreter": {
    "hash": "aee8b7b246df8f9039afb4144a1f6fd8d2ca17a180786b69acc140d282b71a49"
   }
  }
 },
 "nbformat": 4,
 "nbformat_minor": 2
}
