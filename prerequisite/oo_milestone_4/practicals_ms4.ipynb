{
 "cells": [
  {
   "cell_type": "markdown",
   "metadata": {},
   "source": [
    "# Milestone 4 - Practicals \n",
    "1.  Create you own game of Hangman\n",
    "2.  Create a `Car` class\n",
    "3.  Magic methods\n",
    "4.  Create a `Person` Class\n",
    "5.  Create a `Shape` Class"
   ]
  },
  {
   "cell_type": "code",
   "execution_count": 1,
   "metadata": {},
   "outputs": [
    {
     "name": "stdout",
     "output_type": "stream",
     "text": [
      "Correct\n",
      "Word: a _ _ _ _ \n",
      "Guessed: a \n",
      "Guesses: 1/6\n",
      "Correct\n",
      "Word: a p p _ _ \n",
      "Guessed: a p \n",
      "Guesses: 2/6\n",
      "Correct\n",
      "Word: a p p _ _ \n",
      "Guessed: a p p \n",
      "Guesses: 3/6\n",
      "Correct\n",
      "Word: a p p l _ \n",
      "Guessed: a p p l \n",
      "Guesses: 4/6\n",
      "Correct\n",
      "Word: a p p l e \n",
      "Guessed: a p p l e \n",
      "Guesses: 5/6\n",
      "You won!\n"
     ]
    }
   ],
   "source": [
    "#1 Create Your own game of Hangman\n",
    "\n",
    "class Hangman:\n",
    "    def __init__(self, word): # Constructor method for the class Hangman\n",
    "        self.word = word # The word to be guessed by the player \n",
    "        self.guessed = [] # The letters that have been guessed\n",
    "        self.guesses = 0 # The number of guesses the player has made\n",
    "        self.max_guesses = 6 # The maximum number of guesses the player can make\n",
    "        self.game_over = False # Whether the game is over or not\n",
    "        self.won = False # Whether the player has won or not\n",
    "        self.word_guessed = [] # The word to be guessed with the letters that have been guessed filled in\n",
    "        self.word_guessed = [\"_\"] * len(self.word) # Create a Hangman object with the word \"hangman\"\n",
    "\n",
    "    def guess(self, letter): # The method that is called when the player guesses a letter \n",
    "        if self.game_over == False: # If the game is not over \n",
    "            self.guesses += 1 # Increment the number of guesses the player has made\n",
    "            self.guessed.append(letter) # Add the letter to the list of guessed letters\n",
    "            if letter not in self.word: # If the letter is not in the word\n",
    "                print(\"Incorrect\") # Print \"Incorrect\"\n",
    "            else:\n",
    "                print(\"Correct\") # Otherwise print \"Correct\"\n",
    "                self.update_word_guessed(letter) # Update the word to be guessed with the letter\n",
    "            self.print_word() # Print the word to be guessed\n",
    "            self.print_guessed() # Print the letters that have been guessed\n",
    "            self.print_guesses() # Print the number of guesses the player has made\n",
    "            self.check_win() # Check if the player has won\n",
    "            self.check_loss() # Check if the player has lost\n",
    "    \n",
    "    def update_word_guessed(self, letter): # The method that updates the word to be guessed with the letter\n",
    "        for i in range(len(self.word)): # For each letter in the word\n",
    "            if letter == self.word[i]: # If the letter is the same as the letter in the word\n",
    "                self.word_guessed[i] = letter # Create a Hangman object with the word \"hangman\"\n",
    "\n",
    "    def print_word(self): # The method that prints the word to be guessed\n",
    "        print(\"Word: \", end=\"\") # Print \"Word: \"\n",
    "        for letter in self.word_guessed: # For each letter in the word to be guessed\n",
    "            print(letter, end=\" \") # Print the letter\n",
    "        print()\n",
    "\n",
    "\n",
    "    def print_guessed(self): # The method that prints the letters that have been guessed\n",
    "        print(\"Guessed: \", end=\"\") # Print \"Guessed: \"\n",
    "        for letter in self.guessed: # For each letter in the list of guessed letters\n",
    "            print(letter, end=\" \") # Print the letter\n",
    "        print() \n",
    "\n",
    "    def print_guesses(self): # The method that prints the number of guesses the player has made\n",
    "        print(\"Guesses: \" + str(self.guesses) + \"/\" + str(self.max_guesses)) # Print the number of guesses the player has made and the maximum number of guesses the player can make\n",
    "\n",
    "    def check_win(self): # The method that checks if the player has won the game\n",
    "        if \"_\" not in self.word_guessed: # If there are no more underscores in the word to be guessed\n",
    "            self.game_over = True # Set the game over variable to True\n",
    "            self.won = True # Set the won variable to True\n",
    "            print(\"You won!\") # Create a Hangman object with the word \"hangman\"\n",
    "\n",
    "    def check_loss(self): # The method that checks if the player has lost the game\n",
    "        if self.guesses >= self.max_guesses: # If the number of guesses the player has made is greater than or equal to the maximum number of guesses the player can make\n",
    "            self.game_over = True # Set the game over variable to True\n",
    "            self.won = False # Set the won variable to False\n",
    "            print(\"You lost!\") \n",
    "\n",
    "    def play(self): # The method that is called when the player wants to play the game\n",
    "        while self.game_over == False: # While the game is not over\n",
    "            letter = input(\"Enter a letter: \") # Ask the player to enter a letter\n",
    "            self.guess(letter) # Call the guess method with the letter the player entered\n",
    "\n",
    "# Create a game\n",
    "game = Hangman(\"apple\") # Create a Hangman object with the word \"apple\"\n",
    "game.play() # Call the play method\n"
   ]
  },
  {
   "cell_type": "code",
   "execution_count": null,
   "metadata": {},
   "outputs": [],
   "source": []
  }
 ],
 "metadata": {
  "kernelspec": {
   "display_name": "Python 3.9.5 64-bit",
   "language": "python",
   "name": "python3"
  },
  "language_info": {
   "codemirror_mode": {
    "name": "ipython",
    "version": 3
   },
   "file_extension": ".py",
   "mimetype": "text/x-python",
   "name": "python",
   "nbconvert_exporter": "python",
   "pygments_lexer": "ipython3",
   "version": "3.9.5"
  },
  "orig_nbformat": 4,
  "vscode": {
   "interpreter": {
    "hash": "aee8b7b246df8f9039afb4144a1f6fd8d2ca17a180786b69acc140d282b71a49"
   }
  }
 },
 "nbformat": 4,
 "nbformat_minor": 2
}
